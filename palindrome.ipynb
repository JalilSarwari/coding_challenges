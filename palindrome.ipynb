{
 "cells": [
  {
   "cell_type": "code",
   "execution_count": 13,
   "metadata": {},
   "outputs": [],
   "source": [
    "words = ['stacked','bored' ,'kayak', 'deified',\n",
    " 'rotator' ,'repaper', 'deed', 'peep' ,'wow' ,'noon',\n",
    " 'fried', 'turkeys', 'batton', 'tiger','lions', 'bears']"
   ]
  },
  {
   "cell_type": "code",
   "execution_count": 14,
   "metadata": {},
   "outputs": [],
   "source": [
    "isPal = {'palindrome':[],'non palindrome':[]}"
   ]
  },
  {
   "cell_type": "code",
   "execution_count": 15,
   "metadata": {},
   "outputs": [],
   "source": [
    "for word in words:\n",
    "    if word == word[::-1]:\n",
    "        isPal['palindrome'].append(word)\n",
    "    else:\n",
    "        isPal['non palindrome'].append(word)"
   ]
  },
  {
   "cell_type": "code",
   "execution_count": 16,
   "metadata": {},
   "outputs": [
    {
     "data": {
      "text/plain": [
       "{'palindrome': ['kayak',\n",
       "  'deified',\n",
       "  'rotator',\n",
       "  'repaper',\n",
       "  'deed',\n",
       "  'peep',\n",
       "  'wow',\n",
       "  'noon'],\n",
       " 'non palindrome': ['stacked',\n",
       "  'bored',\n",
       "  'fried',\n",
       "  'turkeys',\n",
       "  'batton',\n",
       "  'tiger',\n",
       "  'lions',\n",
       "  'bears']}"
      ]
     },
     "execution_count": 16,
     "metadata": {},
     "output_type": "execute_result"
    }
   ],
   "source": [
    "isPal"
   ]
  }
 ],
 "metadata": {
  "kernelspec": {
   "display_name": "Python (learn-env)",
   "language": "python",
   "name": "learn-env"
  },
  "language_info": {
   "codemirror_mode": {
    "name": "ipython",
    "version": 3
   },
   "file_extension": ".py",
   "mimetype": "text/x-python",
   "name": "python",
   "nbconvert_exporter": "python",
   "pygments_lexer": "ipython3",
   "version": "3.8.5"
  }
 },
 "nbformat": 4,
 "nbformat_minor": 4
}
